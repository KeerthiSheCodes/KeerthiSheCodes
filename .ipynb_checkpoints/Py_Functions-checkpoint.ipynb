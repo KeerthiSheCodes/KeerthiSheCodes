{
 "cells": [
  {
   "cell_type": "code",
   "execution_count": 3,
   "metadata": {},
   "outputs": [],
   "source": [
    "def speed():\n",
    "    # This function calculates speed.\n",
    "    \n",
    "    print(\"distance/ time\")"
   ]
  },
  {
   "cell_type": "code",
   "execution_count": 4,
   "metadata": {},
   "outputs": [
    {
     "name": "stdout",
     "output_type": "stream",
     "text": [
      "distance/ time\n"
     ]
    }
   ],
   "source": [
    "speed()"
   ]
  },
  {
   "cell_type": "code",
   "execution_count": 20,
   "metadata": {},
   "outputs": [],
   "source": [
    "def speed(distance, time):\n",
    "    # This function calculates speed.\n",
    "    speed = distance/ time\n",
    "    print(f\"When distance is {distance} kms with travel time {time} hrs then you are accelerating at a speed {speed} kms/h\")\n",
    "    return(speed)"
   ]
  },
  {
   "cell_type": "code",
   "execution_count": 22,
   "metadata": {},
   "outputs": [
    {
     "name": "stdout",
     "output_type": "stream",
     "text": [
      "When distance is 450 kms with travel time 4 hrs then you are accelerating at a speed 112.5 kms/h\n"
     ]
    }
   ],
   "source": [
    "s = speed(450, 4)"
   ]
  },
  {
   "cell_type": "markdown",
   "metadata": {},
   "source": [
    "### Write a Python function to find the Max of three numbers"
   ]
  },
  {
   "cell_type": "code",
   "execution_count": 7,
   "metadata": {},
   "outputs": [],
   "source": [
    "\n",
    "\n",
    "1,2,3\n",
    "1,3,2\n",
    "\n",
    "2,3,1\n",
    "2,1,3\n",
    "\n",
    "3,1,2\n",
    "3,2,1\n",
    "\n",
    "def MaxIdentifier(N1,N2,N3):\n",
    "    if N1 > N2 > N3:\n",
    "        return N1\n",
    "    elif N1 > N3 > N2:\n",
    "        return N1\n",
    "    \n",
    "    elif N2 > N3 > N1:\n",
    "        return N2\n",
    "    elif N2 > N1 > N3:\n",
    "        return N2\n",
    "    \n",
    "    elif N3 > N2 > N1:\n",
    "        return N3\n",
    "    elif N3 > N1 > N2:\n",
    "        return N3\n",
    "    elif N1 == N2 == N3:\n",
    "        return N1"
   ]
  },
  {
   "cell_type": "code",
   "execution_count": 9,
   "metadata": {},
   "outputs": [
    {
     "name": "stdout",
     "output_type": "stream",
     "text": [
      "max of 123 is  3\n",
      "max of 132 is  3\n",
      "max of 231 is  3\n",
      "max of 213 is  3\n",
      "max of 321 is  3\n",
      "max of 312 is  3\n",
      "max of 729 is  9\n",
      "max of -101 is  1\n",
      "max of 111 is  1\n",
      "max of 000 is  0\n"
     ]
    }
   ],
   "source": [
    "print(\"max of 123 is \", MaxIdentifier(1,2,3))\n",
    "print(\"max of 132 is \", MaxIdentifier(1,3,2))\n",
    "\n",
    "print(\"max of 231 is \", MaxIdentifier(2,3,1))\n",
    "print(\"max of 213 is \", MaxIdentifier(2,1,3))\n",
    "\n",
    "print(\"max of 321 is \", MaxIdentifier(3,2,1))\n",
    "print(\"max of 312 is \", MaxIdentifier(3,1,2))\n",
    "\n",
    "print(\"max of 729 is \", MaxIdentifier(7,2,9))\n",
    "print(\"max of -101 is \", MaxIdentifier(-1,0,1))\n",
    "\n",
    "print(\"max of 111 is \", MaxIdentifier(1,1,1))\n",
    "print(\"max of 000 is \", MaxIdentifier(0,0,0))"
   ]
  },
  {
   "cell_type": "code",
   "execution_count": 10,
   "metadata": {},
   "outputs": [],
   "source": [
    "def max_of_two(N1,N2):\n",
    "    if N1 > N2:\n",
    "        return N1\n",
    "    return N2\n",
    "\n",
    "def max_of_three(N1,N2,N3):\n",
    "    return max_of_two(N1, max_of_two(N2,N3))\n",
    "\n"
   ]
  },
  {
   "cell_type": "code",
   "execution_count": 11,
   "metadata": {},
   "outputs": [
    {
     "name": "stdout",
     "output_type": "stream",
     "text": [
      "max of 123 is  3\n",
      "max of 132 is  3\n",
      "max of 231 is  3\n",
      "max of 213 is  3\n",
      "max of 321 is  3\n",
      "max of 312 is  3\n",
      "max of 729 is  9\n",
      "max of -101 is  1\n",
      "max of 111 is  1\n",
      "max of 000 is  0\n"
     ]
    }
   ],
   "source": [
    "print(\"max of 123 is \", max_of_three(1,2,3))\n",
    "print(\"max of 132 is \", max_of_three(1,3,2))\n",
    "\n",
    "print(\"max of 231 is \", max_of_three(2,3,1))\n",
    "print(\"max of 213 is \", max_of_three(2,1,3))\n",
    "\n",
    "print(\"max of 321 is \", max_of_three(3,2,1))\n",
    "print(\"max of 312 is \", max_of_three(3,1,2))\n",
    "\n",
    "print(\"max of 729 is \", max_of_three(7,2,9))\n",
    "print(\"max of -101 is \", max_of_three(-1,0,1))\n",
    "\n",
    "print(\"max of 111 is \", max_of_three(1,1,1))\n",
    "print(\"max of 000 is \", max_of_three(0,0,0))"
   ]
  },
  {
   "cell_type": "code",
   "execution_count": 35,
   "metadata": {},
   "outputs": [],
   "source": [
    "def Twonum(N1,N2):\n",
    "    if N1 > N2:\n",
    "        return N1\n",
    "    return N2\n",
    "def ThreeNum(N1,N2,N3):\n",
    "    return Twonum(N1,Twonum(N2,N3))\n",
    "    "
   ]
  },
  {
   "cell_type": "code",
   "execution_count": 36,
   "metadata": {},
   "outputs": [
    {
     "name": "stdout",
     "output_type": "stream",
     "text": [
      "Max number of 10,12,18 is  18\n"
     ]
    }
   ],
   "source": [
    "print(\"Max number of 10,12,18 is \" ,ThreeNum(10,18,12))"
   ]
  },
  {
   "cell_type": "code",
   "execution_count": 21,
   "metadata": {},
   "outputs": [],
   "source": [
    "def num(numbers):\n",
    "    sum=0\n",
    "    for i in numbers:\n",
    "        sum+=i\n",
    "        return sum"
   ]
  },
  {
   "cell_type": "code",
   "execution_count": 23,
   "metadata": {},
   "outputs": [
    {
     "name": "stdout",
     "output_type": "stream",
     "text": [
      "6\n"
     ]
    }
   ],
   "source": [
    "print(sum((1,2,3,)))"
   ]
  },
  {
   "cell_type": "markdown",
   "metadata": {},
   "source": [
    "#Write a Python Function to multiply all the numbers in a list "
   ]
  },
  {
   "cell_type": "code",
   "execution_count": 46,
   "metadata": {},
   "outputs": [],
   "source": [
    "def multiply(num):\n",
    "    total = 1\n",
    "    for x in num:\n",
    "        total *= x\n",
    "        return total"
   ]
  },
  {
   "cell_type": "code",
   "execution_count": 48,
   "metadata": {},
   "outputs": [
    {
     "name": "stdout",
     "output_type": "stream",
     "text": [
      "2\n"
     ]
    }
   ],
   "source": [
    "print(multiply((2,3,8)))"
   ]
  },
  {
   "cell_type": "code",
   "execution_count": 55,
   "metadata": {},
   "outputs": [
    {
     "name": "stdout",
     "output_type": "stream",
     "text": [
      "30\n"
     ]
    }
   ],
   "source": [
    "def multiply(number):\n",
    "    value = 10\n",
    "    for i in number:\n",
    "        value *= i\n",
    "        return value\n",
    "    \n",
    "print(multiply((3,2)))    "
   ]
  },
  {
   "cell_type": "markdown",
   "metadata": {},
   "source": [
    "# Write a program to reverse a string"
   ]
  },
  {
   "cell_type": "code",
   "execution_count": 67,
   "metadata": {},
   "outputs": [],
   "source": [
    "text = \"Hello Meena\"[::-1]\n"
   ]
  },
  {
   "cell_type": "code",
   "execution_count": 68,
   "metadata": {},
   "outputs": [
    {
     "name": "stdout",
     "output_type": "stream",
     "text": [
      "aneeM olleH\n"
     ]
    }
   ],
   "source": [
    "print(text)"
   ]
  },
  {
   "cell_type": "code",
   "execution_count": 71,
   "metadata": {},
   "outputs": [],
   "source": [
    "reverse = \"Hello you are reading this text in reversing order\" [::-1]"
   ]
  },
  {
   "cell_type": "code",
   "execution_count": 72,
   "metadata": {},
   "outputs": [
    {
     "name": "stdout",
     "output_type": "stream",
     "text": [
      "redro gnisrever ni txet siht gnidaer era uoy olleH\n"
     ]
    }
   ],
   "source": [
    "print(reverse)"
   ]
  },
  {
   "cell_type": "code",
   "execution_count": null,
   "metadata": {},
   "outputs": [],
   "source": [
    "##"
   ]
  }
 ],
 "metadata": {
  "kernelspec": {
   "display_name": "Python 3",
   "language": "python",
   "name": "python3"
  },
  "language_info": {
   "codemirror_mode": {
    "name": "ipython",
    "version": 3
   },
   "file_extension": ".py",
   "mimetype": "text/x-python",
   "name": "python",
   "nbconvert_exporter": "python",
   "pygments_lexer": "ipython3",
   "version": "3.7.4"
  }
 },
 "nbformat": 4,
 "nbformat_minor": 2
}
