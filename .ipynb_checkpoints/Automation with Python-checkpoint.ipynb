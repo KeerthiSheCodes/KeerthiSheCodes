{
 "cells": [
  {
   "cell_type": "markdown",
   "metadata": {},
   "source": [
    "### Variables"
   ]
  },
  {
   "cell_type": "code",
   "execution_count": 1,
   "metadata": {},
   "outputs": [],
   "source": [
    "\n",
    "price = 15\n",
    "discount = 0.15\n",
    "cost = price* (1- discount)\n"
   ]
  },
  {
   "cell_type": "code",
   "execution_count": 2,
   "metadata": {},
   "outputs": [
    {
     "name": "stdout",
     "output_type": "stream",
     "text": [
      "12.75\n"
     ]
    }
   ],
   "source": [
    "print(cost)"
   ]
  },
  {
   "cell_type": "markdown",
   "metadata": {},
   "source": [
    "## Create two variables var1, var2 both with same value"
   ]
  },
  {
   "cell_type": "code",
   "execution_count": 3,
   "metadata": {},
   "outputs": [
    {
     "name": "stdout",
     "output_type": "stream",
     "text": [
      "20\n",
      "20\n"
     ]
    }
   ],
   "source": [
    "var1=20\n",
    "var2 =20\n",
    "\n",
    "print(var1)\n",
    "print(var2)\n"
   ]
  },
  {
   "cell_type": "markdown",
   "metadata": {},
   "source": [
    "## Create two variables num1, num2 that multiply together to get number 16"
   ]
  },
  {
   "cell_type": "code",
   "execution_count": 5,
   "metadata": {},
   "outputs": [],
   "source": [
    "num1 = 4\n",
    "num2 =4\n",
    "value = num1 * num2\n"
   ]
  },
  {
   "cell_type": "code",
   "execution_count": 6,
   "metadata": {},
   "outputs": [
    {
     "name": "stdout",
     "output_type": "stream",
     "text": [
      "16\n"
     ]
    }
   ],
   "source": [
    "print(value)"
   ]
  },
  {
   "cell_type": "markdown",
   "metadata": {},
   "source": [
    "## String formatting"
   ]
  },
  {
   "cell_type": "code",
   "execution_count": 8,
   "metadata": {},
   "outputs": [
    {
     "name": "stdout",
     "output_type": "stream",
     "text": [
      "Hello, meena\n",
      "Hello, Akshaj\n"
     ]
    }
   ],
   "source": [
    "name = 'meena'\n",
    "print(f'Hello, {name}')\n",
    "\n",
    "name = 'Akshaj'\n",
    "print(f'Hello, {name}')"
   ]
  },
  {
   "cell_type": "markdown",
   "metadata": {},
   "source": [
    "## String formatting using .formart()"
   ]
  },
  {
   "cell_type": "code",
   "execution_count": 16,
   "metadata": {},
   "outputs": [],
   "source": [
    "name = 'Akshaj'\n",
    "name2 = 'Meena'\n",
    "greeting = \"Hello, {}\"\n",
    "with_name = greeting.format(name)\n",
    "with_name2 = greeting.format(name2)"
   ]
  },
  {
   "cell_type": "code",
   "execution_count": 17,
   "metadata": {},
   "outputs": [
    {
     "name": "stdout",
     "output_type": "stream",
     "text": [
      "Hello, Akshaj\n",
      "Hello, Meena\n"
     ]
    }
   ],
   "source": [
    "print(with_name)\n",
    "print(with_name2)"
   ]
  },
  {
   "cell_type": "code",
   "execution_count": 20,
   "metadata": {},
   "outputs": [],
   "source": [
    "greet = \"Hello, {} !! today is {} and the weather is very {}\"\n",
    "formating = greet.format(\"Akshaj\",\"Sunday\", \"cloudy\")\n",
    "formating_2 = greet.format(\"Meena\",\"Monday\",\"rainy\")"
   ]
  },
  {
   "cell_type": "code",
   "execution_count": 22,
   "metadata": {},
   "outputs": [
    {
     "name": "stdout",
     "output_type": "stream",
     "text": [
      "Hello, Akshaj !! today is Sunday and the weather is very cloudy\n",
      "Hello, Meena !! today is Monday and the weather is very rainy\n"
     ]
    }
   ],
   "source": [
    "print(formating)\n",
    "print(formating_2)"
   ]
  },
  {
   "cell_type": "markdown",
   "metadata": {},
   "source": [
    "### Getting User inputs"
   ]
  },
  {
   "cell_type": "code",
   "execution_count": 30,
   "metadata": {},
   "outputs": [
    {
     "name": "stdout",
     "output_type": "stream",
     "text": [
      "Akshaj\n",
      "Akshaj It's nice to see you\n",
      "Meena\n",
      "Meena Great to see you here\n"
     ]
    }
   ],
   "source": [
    "name = input(\"\")\n",
    "print(name,\"It's nice to see you\")\n",
    "\n",
    "name2= input(\"\")\n",
    "print(name2,\"Great to see you here\")\n",
    "\n"
   ]
  },
  {
   "cell_type": "markdown",
   "metadata": {},
   "source": [
    "## Doing math with user input"
   ]
  },
  {
   "cell_type": "code",
   "execution_count": null,
   "metadata": {},
   "outputs": [],
   "source": [
    "size = input(\"How big is your house(in square meters)\")\n"
   ]
  },
  {
   "cell_type": "code",
   "execution_count": null,
   "metadata": {},
   "outputs": [],
   "source": []
  }
 ],
 "metadata": {
  "kernelspec": {
   "display_name": "Python 3",
   "language": "python",
   "name": "python3"
  },
  "language_info": {
   "codemirror_mode": {
    "name": "ipython",
    "version": 3
   },
   "file_extension": ".py",
   "mimetype": "text/x-python",
   "name": "python",
   "nbconvert_exporter": "python",
   "pygments_lexer": "ipython3",
   "version": "3.7.4"
  }
 },
 "nbformat": 4,
 "nbformat_minor": 2
}
