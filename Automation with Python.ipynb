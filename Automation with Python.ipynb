{
 "cells": [
  {
   "cell_type": "markdown",
   "metadata": {},
   "source": [
    "### Variables"
   ]
  },
  {
   "cell_type": "code",
   "execution_count": 1,
   "metadata": {},
   "outputs": [],
   "source": [
    "\n",
    "price = 15\n",
    "discount = 0.15\n",
    "cost = price* (1- discount)\n"
   ]
  },
  {
   "cell_type": "code",
   "execution_count": 2,
   "metadata": {},
   "outputs": [
    {
     "name": "stdout",
     "output_type": "stream",
     "text": [
      "12.75\n"
     ]
    }
   ],
   "source": [
    "print(cost)"
   ]
  },
  {
   "cell_type": "markdown",
   "metadata": {},
   "source": [
    "## Create two variables var1, var2 both with same value"
   ]
  },
  {
   "cell_type": "code",
   "execution_count": 3,
   "metadata": {},
   "outputs": [
    {
     "name": "stdout",
     "output_type": "stream",
     "text": [
      "20\n",
      "20\n"
     ]
    }
   ],
   "source": [
    "var1=20\n",
    "var2 =20\n",
    "\n",
    "print(var1)\n",
    "print(var2)\n"
   ]
  },
  {
   "cell_type": "markdown",
   "metadata": {},
   "source": [
    "## Create two variables num1, num2 that multiply together to get number 16"
   ]
  },
  {
   "cell_type": "code",
   "execution_count": 5,
   "metadata": {},
   "outputs": [],
   "source": [
    "num1 = 4\n",
    "num2 =4\n",
    "value = num1 * num2\n"
   ]
  },
  {
   "cell_type": "code",
   "execution_count": 6,
   "metadata": {},
   "outputs": [
    {
     "name": "stdout",
     "output_type": "stream",
     "text": [
      "16\n"
     ]
    }
   ],
   "source": [
    "print(value)"
   ]
  },
  {
   "cell_type": "markdown",
   "metadata": {},
   "source": [
    "## String formatting"
   ]
  },
  {
   "cell_type": "code",
   "execution_count": 8,
   "metadata": {},
   "outputs": [
    {
     "name": "stdout",
     "output_type": "stream",
     "text": [
      "Hello, meena\n",
      "Hello, Akshaj\n"
     ]
    }
   ],
   "source": [
    "name = 'meena'\n",
    "print(f'Hello, {name}')\n",
    "\n",
    "name = 'Akshaj'\n",
    "print(f'Hello, {name}')"
   ]
  },
  {
   "cell_type": "markdown",
   "metadata": {},
   "source": [
    "## String formatting using .formart()"
   ]
  },
  {
   "cell_type": "code",
   "execution_count": 16,
   "metadata": {},
   "outputs": [],
   "source": [
    "name = 'Akshaj'\n",
    "name2 = 'Meena'\n",
    "greeting = \"Hello, {}\"\n",
    "with_name = greeting.format(name)\n",
    "with_name2 = greeting.format(name2)"
   ]
  },
  {
   "cell_type": "code",
   "execution_count": 17,
   "metadata": {},
   "outputs": [
    {
     "name": "stdout",
     "output_type": "stream",
     "text": [
      "Hello, Akshaj\n",
      "Hello, Meena\n"
     ]
    }
   ],
   "source": [
    "print(with_name)\n",
    "print(with_name2)"
   ]
  },
  {
   "cell_type": "code",
   "execution_count": 20,
   "metadata": {},
   "outputs": [],
   "source": [
    "greet = \"Hello, {} !! today is {} and the weather is very {}\"\n",
    "formating = greet.format(\"Akshaj\",\"Sunday\", \"cloudy\")\n",
    "formating_2 = greet.format(\"Meena\",\"Monday\",\"rainy\")"
   ]
  },
  {
   "cell_type": "code",
   "execution_count": 22,
   "metadata": {},
   "outputs": [
    {
     "name": "stdout",
     "output_type": "stream",
     "text": [
      "Hello, Akshaj !! today is Sunday and the weather is very cloudy\n",
      "Hello, Meena !! today is Monday and the weather is very rainy\n"
     ]
    }
   ],
   "source": [
    "print(formating)\n",
    "print(formating_2)"
   ]
  },
  {
   "cell_type": "markdown",
   "metadata": {},
   "source": [
    "### Getting User inputs"
   ]
  },
  {
   "cell_type": "code",
   "execution_count": 30,
   "metadata": {},
   "outputs": [
    {
     "name": "stdout",
     "output_type": "stream",
     "text": [
      "Akshaj\n",
      "Akshaj It's nice to see you\n",
      "Meena\n",
      "Meena Great to see you here\n"
     ]
    }
   ],
   "source": [
    "name = input(\"\")\n",
    "print(name,\"It's nice to see you\")\n",
    "\n",
    "name2= input(\"\")\n",
    "print(name2,\"Great to see you here\")\n",
    "\n"
   ]
  },
  {
   "cell_type": "markdown",
   "metadata": {},
   "source": [
    "## Doing math with user input"
   ]
  },
  {
   "cell_type": "code",
   "execution_count": 46,
   "metadata": {},
   "outputs": [
    {
     "name": "stdout",
     "output_type": "stream",
     "text": [
      "How big is your house(in square feet)790\n"
     ]
    },
    {
     "ename": "TypeError",
     "evalue": "unsupported operand type(s) for /: 'str' and 'int'",
     "output_type": "error",
     "traceback": [
      "\u001b[0;31m---------------------------------------------------------------------------\u001b[0m",
      "\u001b[0;31mTypeError\u001b[0m                                 Traceback (most recent call last)",
      "\u001b[0;32m<ipython-input-46-eb279c2670b6>\u001b[0m in \u001b[0;36m<module>\u001b[0;34m\u001b[0m\n\u001b[1;32m      3\u001b[0m \u001b[0msquare_feet\u001b[0m \u001b[0;34m=\u001b[0m \u001b[0mint\u001b[0m\u001b[0;34m(\u001b[0m\u001b[0msize\u001b[0m\u001b[0;34m)\u001b[0m\u001b[0;34m\u001b[0m\u001b[0;34m\u001b[0m\u001b[0m\n\u001b[1;32m      4\u001b[0m \u001b[0;34m\u001b[0m\u001b[0m\n\u001b[0;32m----> 5\u001b[0;31m \u001b[0msquare_meters\u001b[0m \u001b[0;34m=\u001b[0m \u001b[0msize\u001b[0m\u001b[0;34m/\u001b[0m\u001b[0;36m10\u001b[0m\u001b[0;34m\u001b[0m\u001b[0;34m\u001b[0m\u001b[0m\n\u001b[0m\u001b[1;32m      6\u001b[0m \u001b[0;34m\u001b[0m\u001b[0m\n\u001b[1;32m      7\u001b[0m \u001b[0mprint\u001b[0m\u001b[0;34m(\u001b[0m\u001b[0msquare_meters\u001b[0m\u001b[0;34m)\u001b[0m\u001b[0;34m\u001b[0m\u001b[0;34m\u001b[0m\u001b[0m\n",
      "\u001b[0;31mTypeError\u001b[0m: unsupported operand type(s) for /: 'str' and 'int'"
     ]
    }
   ],
   "source": [
    "size = input(\"How big is your house(in square feet)\")\n",
    "\n",
    "square_feet = int(size)\n",
    "\n",
    "square_meters = size/10\n",
    "\n",
    "print(square_meters)\n"
   ]
  },
  {
   "cell_type": "raw",
   "metadata": {},
   "source": []
  },
  {
   "cell_type": "markdown",
   "metadata": {},
   "source": [
    "### Lists, tuples and sets advance set operations"
   ]
  },
  {
   "cell_type": "code",
   "execution_count": 49,
   "metadata": {},
   "outputs": [
    {
     "name": "stdout",
     "output_type": "stream",
     "text": [
      "{'mum', 'sil', 'bro', 'dad'}\n"
     ]
    }
   ],
   "source": [
    "\n",
    "family ={\"mum\",\"dad\",\"sis\",\"bro\",\"bil\",\"sil\",\"niece\",\"nephew\"}\n",
    "abroad = {\"sis\",\"bil\",\"niece\",\"nephew\"}\n",
    "local_family = family.difference(abroad)\n",
    "print(local_family)\n"
   ]
  },
  {
   "cell_type": "code",
   "execution_count": 50,
   "metadata": {},
   "outputs": [
    {
     "name": "stdout",
     "output_type": "stream",
     "text": [
      "{'h', 'i', 'b', 'd', 'f'}\n"
     ]
    }
   ],
   "source": [
    "friends ={\"a\",\"b\",\"c\",\"d\",\"e\",\"f\",\"g\",\"h\",\"i\"}\n",
    "foreign = {\"a\",\"c\",\"e\",\"g\"}\n",
    "local_buddies = friends.difference(foreign)\n",
    "print(local_buddies)"
   ]
  },
  {
   "cell_type": "markdown",
   "metadata": {},
   "source": [
    "## To unite 2 sets we use Union\n"
   ]
  },
  {
   "cell_type": "code",
   "execution_count": 52,
   "metadata": {},
   "outputs": [
    {
     "name": "stdout",
     "output_type": "stream",
     "text": [
      "{'h', 'i', 'b', 'a', 'g', 'c', 'd', 'f', 'e'}\n"
     ]
    }
   ],
   "source": [
    "my_buds = friends.union(foreign)\n",
    "print(my_buds)"
   ]
  },
  {
   "cell_type": "markdown",
   "metadata": {},
   "source": [
    "## Intersection "
   ]
  },
  {
   "cell_type": "code",
   "execution_count": 54,
   "metadata": {},
   "outputs": [
    {
     "name": "stdout",
     "output_type": "stream",
     "text": [
      "{'b', 'a', 'i', 'e'}\n"
     ]
    }
   ],
   "source": [
    "bicycle = {'a','b','i','e'}\n",
    "cars = {'a','b','c','d','e','f','g','h','i'}\n",
    "both = bicycle.intersection(cars)\n",
    "print(both)"
   ]
  },
  {
   "cell_type": "markdown",
   "metadata": {},
   "source": [
    "## If Statement"
   ]
  },
  {
   "cell_type": "code",
   "execution_count": 56,
   "metadata": {},
   "outputs": [
    {
     "name": "stdout",
     "output_type": "stream",
     "text": [
      "Enter a day here:tuesday\n",
      "It's not Monday\n"
     ]
    }
   ],
   "source": [
    "days_of_week = input(\"Enter a day here:\")\n",
    "if days_of_week == 'Monday':\n",
    "    print(\"Have a great start!!\")\n",
    "    \n",
    "if days_of_week != 'Monday':\n",
    "    print(\"It's not Monday\")\n",
    "    "
   ]
  },
  {
   "cell_type": "markdown",
   "metadata": {},
   "source": [
    "## Guessing the number\n"
   ]
  },
  {
   "cell_type": "code",
   "execution_count": 63,
   "metadata": {},
   "outputs": [
    {
     "name": "stdout",
     "output_type": "stream",
     "text": [
      "Enter y to start the gamey\n",
      "Enter a number5\n",
      "Well done you have entered 5 number!!\n"
     ]
    }
   ],
   "source": [
    "number =5\n",
    "player_input = input(\"Enter y to start the game\").lower()\n",
    "\n",
    "if player_input =='y':\n",
    "    player_number = int(input(\"Enter a number\"))\n",
    "    \n",
    "    if player_number == 5:\n",
    "        print(f\"Well done you have entered {number} number!!\")\n",
    "    else:\n",
    "        print(\"oops!! better luck next time\")\n",
    "            \n",
    "    "
   ]
  },
  {
   "cell_type": "code",
   "execution_count": 64,
   "metadata": {},
   "outputs": [
    {
     "name": "stdout",
     "output_type": "stream",
     "text": [
      "93.57142857142857\n"
     ]
    }
   ],
   "source": [
    "grades = [89,90,92,94,95,98,97]\n",
    "total = 0\n",
    "amount = len(grades)\n",
    "\n",
    "for grade in grades:\n",
    "    total += grade\n",
    "print(total/amount)    \n",
    "    "
   ]
  },
  {
   "cell_type": "code",
   "execution_count": 65,
   "metadata": {},
   "outputs": [
    {
     "name": "stdout",
     "output_type": "stream",
     "text": [
      "94.16666666666667\n"
     ]
    }
   ],
   "source": [
    "## without using for loop\n",
    "\n",
    "grades=[89,90,98,97,96,95]\n",
    "total = sum(grades)\n",
    "amount = len(grades)\n",
    "print(total/amount)"
   ]
  },
  {
   "cell_type": "markdown",
   "metadata": {},
   "source": [
    "## List comphrension"
   ]
  },
  {
   "cell_type": "code",
   "execution_count": 67,
   "metadata": {},
   "outputs": [
    {
     "name": "stdout",
     "output_type": "stream",
     "text": [
      "['pappu']\n",
      "['pappu', 'pasta']\n",
      "['pappu', 'pasta', 'pizza']\n",
      "['pappu', 'pasta', 'pizza', 'pineapple']\n"
     ]
    }
   ],
   "source": [
    "foods = ['rice','pappu','curry','dal','sambar','pasta','pizza','pineapple']\n",
    "starts_p = []\n",
    "\n",
    "for food in foods:\n",
    "    if food.startswith('p'):\n",
    "        starts_p.append(food)\n",
    "        print(starts_p)"
   ]
  },
  {
   "cell_type": "code",
   "execution_count": null,
   "metadata": {},
   "outputs": [],
   "source": []
  }
 ],
 "metadata": {
  "kernelspec": {
   "display_name": "Python 3",
   "language": "python",
   "name": "python3"
  },
  "language_info": {
   "codemirror_mode": {
    "name": "ipython",
    "version": 3
   },
   "file_extension": ".py",
   "mimetype": "text/x-python",
   "name": "python",
   "nbconvert_exporter": "python",
   "pygments_lexer": "ipython3",
   "version": "3.7.4"
  }
 },
 "nbformat": 4,
 "nbformat_minor": 2
}
