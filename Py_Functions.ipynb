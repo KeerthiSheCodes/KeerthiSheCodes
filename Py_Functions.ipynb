{
 "cells": [
  {
   "cell_type": "markdown",
   "metadata": {},
   "source": [
    "# Python function/s is a block of code and it runs only when called"
   ]
  },
  {
   "cell_type": "code",
   "execution_count": 1,
   "metadata": {},
   "outputs": [],
   "source": [
    "def speed():\n",
    "    # This function calculates speed.\n",
    "    \n",
    "    print(\"distance/ time\")"
   ]
  },
  {
   "cell_type": "code",
   "execution_count": 2,
   "metadata": {},
   "outputs": [
    {
     "name": "stdout",
     "output_type": "stream",
     "text": [
      "distance/ time\n"
     ]
    }
   ],
   "source": [
    "speed()"
   ]
  },
  {
   "cell_type": "code",
   "execution_count": 5,
   "metadata": {},
   "outputs": [],
   "source": [
    "def speed(distance, time):\n",
    "    # This function calculates speed.\n",
    "    speed = distance/ time\n",
    "    print(f\"When distance is {distance} kms with travel time {time} hrs then you are accelerating at a speed {speed} kms/h\")\n",
    "    return(speed)"
   ]
  },
  {
   "cell_type": "code",
   "execution_count": 7,
   "metadata": {},
   "outputs": [
    {
     "name": "stdout",
     "output_type": "stream",
     "text": [
      "When distance is 550 kms with travel time 6 hrs then you are accelerating at a speed 91.66666666666667 kms/h\n"
     ]
    }
   ],
   "source": [
    "s = speed(550,6)"
   ]
  },
  {
   "cell_type": "markdown",
   "metadata": {},
   "source": [
    "### Write a Python function to find the Max of three numbers"
   ]
  },
  {
   "cell_type": "code",
   "execution_count": 7,
   "metadata": {},
   "outputs": [],
   "source": [
    "\n",
    "\n",
    "1,2,3\n",
    "1,3,2\n",
    "\n",
    "2,3,1\n",
    "2,1,3\n",
    "\n",
    "3,1,2\n",
    "3,2,1\n",
    "\n",
    "def MaxIdentifier(N1,N2,N3):\n",
    "    if N1 > N2 > N3:\n",
    "        return N1\n",
    "    elif N1 > N3 > N2:\n",
    "        return N1\n",
    "    \n",
    "    elif N2 > N3 > N1:\n",
    "        return N2\n",
    "    elif N2 > N1 > N3:\n",
    "        return N2\n",
    "    \n",
    "    elif N3 > N2 > N1:\n",
    "        return N3\n",
    "    elif N3 > N1 > N2:\n",
    "        return N3\n",
    "    elif N1 == N2 == N3:\n",
    "        return N1"
   ]
  },
  {
   "cell_type": "code",
   "execution_count": 9,
   "metadata": {},
   "outputs": [
    {
     "name": "stdout",
     "output_type": "stream",
     "text": [
      "max of 123 is  3\n",
      "max of 132 is  3\n",
      "max of 231 is  3\n",
      "max of 213 is  3\n",
      "max of 321 is  3\n",
      "max of 312 is  3\n",
      "max of 729 is  9\n",
      "max of -101 is  1\n",
      "max of 111 is  1\n",
      "max of 000 is  0\n"
     ]
    }
   ],
   "source": [
    "print(\"max of 123 is \", MaxIdentifier(1,2,3))\n",
    "print(\"max of 132 is \", MaxIdentifier(1,3,2))\n",
    "\n",
    "print(\"max of 231 is \", MaxIdentifier(2,3,1))\n",
    "print(\"max of 213 is \", MaxIdentifier(2,1,3))\n",
    "\n",
    "print(\"max of 321 is \", MaxIdentifier(3,2,1))\n",
    "print(\"max of 312 is \", MaxIdentifier(3,1,2))\n",
    "\n",
    "print(\"max of 729 is \", MaxIdentifier(7,2,9))\n",
    "print(\"max of -101 is \", MaxIdentifier(-1,0,1))\n",
    "\n",
    "print(\"max of 111 is \", MaxIdentifier(1,1,1))\n",
    "print(\"max of 000 is \", MaxIdentifier(0,0,0))"
   ]
  },
  {
   "cell_type": "code",
   "execution_count": 10,
   "metadata": {},
   "outputs": [],
   "source": [
    "def max_of_two(N1,N2):\n",
    "    if N1 > N2:\n",
    "        return N1\n",
    "    return N2\n",
    "\n",
    "def max_of_three(N1,N2,N3):\n",
    "    return max_of_two(N1, max_of_two(N2,N3))\n",
    "\n"
   ]
  },
  {
   "cell_type": "code",
   "execution_count": 11,
   "metadata": {},
   "outputs": [
    {
     "name": "stdout",
     "output_type": "stream",
     "text": [
      "max of 123 is  3\n",
      "max of 132 is  3\n",
      "max of 231 is  3\n",
      "max of 213 is  3\n",
      "max of 321 is  3\n",
      "max of 312 is  3\n",
      "max of 729 is  9\n",
      "max of -101 is  1\n",
      "max of 111 is  1\n",
      "max of 000 is  0\n"
     ]
    }
   ],
   "source": [
    "print(\"max of 123 is \", max_of_three(1,2,3))\n",
    "print(\"max of 132 is \", max_of_three(1,3,2))\n",
    "\n",
    "print(\"max of 231 is \", max_of_three(2,3,1))\n",
    "print(\"max of 213 is \", max_of_three(2,1,3))\n",
    "\n",
    "print(\"max of 321 is \", max_of_three(3,2,1))\n",
    "print(\"max of 312 is \", max_of_three(3,1,2))\n",
    "\n",
    "print(\"max of 729 is \", max_of_three(7,2,9))\n",
    "print(\"max of -101 is \", max_of_three(-1,0,1))\n",
    "\n",
    "print(\"max of 111 is \", max_of_three(1,1,1))\n",
    "print(\"max of 000 is \", max_of_three(0,0,0))"
   ]
  },
  {
   "cell_type": "code",
   "execution_count": 35,
   "metadata": {},
   "outputs": [],
   "source": [
    "def Twonum(N1,N2):\n",
    "    if N1 > N2:\n",
    "        return N1\n",
    "    return N2\n",
    "def ThreeNum(N1,N2,N3):\n",
    "    return Twonum(N1,Twonum(N2,N3))\n",
    "    "
   ]
  },
  {
   "cell_type": "code",
   "execution_count": 36,
   "metadata": {},
   "outputs": [
    {
     "name": "stdout",
     "output_type": "stream",
     "text": [
      "Max number of 10,12,18 is  18\n"
     ]
    }
   ],
   "source": [
    "print(\"Max number of 10,12,18 is \" ,ThreeNum(10,18,12))"
   ]
  },
  {
   "cell_type": "code",
   "execution_count": null,
   "metadata": {},
   "outputs": [],
   "source": [
    "[10,2,3,4,6,8,7,9,1]\n",
    "\n",
    "def sum_of_numbers(input_list):\n",
    "    # variable to store the results\n",
    "    Sum=0\n",
    "    \n",
    "    for i in input_list:\n",
    "        if type(i) == int:\n",
    "        # Sum = Sum + i\n",
    "            Sum +=i\n",
    "        else:\n",
    "            pass\n",
    "    return Sum\n"
   ]
  },
  {
   "cell_type": "code",
   "execution_count": 29,
   "metadata": {},
   "outputs": [
    {
     "name": "stdout",
     "output_type": "stream",
     "text": [
      "10\n",
      "12\n",
      "15\n",
      "19\n",
      "25\n",
      "33\n",
      "40\n",
      "49\n",
      "50\n"
     ]
    }
   ],
   "source": [
    "s = 0\n",
    "for i in [10,2,3,4,6,8,7,9,1]:\n",
    "    s = s + i\n",
    "    print(s)"
   ]
  },
  {
   "cell_type": "code",
   "execution_count": 25,
   "metadata": {},
   "outputs": [
    {
     "name": "stdout",
     "output_type": "stream",
     "text": [
      "20\n",
      "16\n",
      "10\n"
     ]
    }
   ],
   "source": [
    "print(sum_of_numbers([10,2,8]))\n",
    "print(sum_of_numbers([10,-2,8]))\n",
    "print(sum_of_numbers(['a',2,8]))"
   ]
  },
  {
   "cell_type": "code",
   "execution_count": 21,
   "metadata": {},
   "outputs": [],
   "source": [
    "def num(numbers):\n",
    "    sum=0\n",
    "    for i in numbers:\n",
    "        sum+=i\n",
    "        return sum"
   ]
  },
  {
   "cell_type": "code",
   "execution_count": 23,
   "metadata": {},
   "outputs": [
    {
     "name": "stdout",
     "output_type": "stream",
     "text": [
      "6\n"
     ]
    }
   ],
   "source": [
    "print(sum((1,2,3,)))"
   ]
  },
  {
   "cell_type": "markdown",
   "metadata": {},
   "source": [
    "### Write a Python Function to multiply all the numbers in a list "
   ]
  },
  {
   "cell_type": "code",
   "execution_count": 34,
   "metadata": {},
   "outputs": [],
   "source": [
    "def multiply(num):\n",
    "    total = 1\n",
    "    \n",
    "    for x in num:\n",
    "        total *= x\n",
    "    return total\n"
   ]
  },
  {
   "cell_type": "code",
   "execution_count": 37,
   "metadata": {},
   "outputs": [
    {
     "name": "stdout",
     "output_type": "stream",
     "text": [
      "48\n"
     ]
    }
   ],
   "source": [
    "print(multiply([2,3,8]))"
   ]
  },
  {
   "cell_type": "code",
   "execution_count": 33,
   "metadata": {},
   "outputs": [
    {
     "name": "stdout",
     "output_type": "stream",
     "text": [
      "60\n"
     ]
    }
   ],
   "source": [
    "def multiply(number):\n",
    "    value = 10\n",
    "    for i in number:\n",
    "        value *= i \n",
    "    return value\n",
    "    \n",
    "print(multiply([2,3,4]))    "
   ]
  },
  {
   "cell_type": "markdown",
   "metadata": {},
   "source": [
    "# Write a program to reverse a string"
   ]
  },
  {
   "cell_type": "code",
   "execution_count": 57,
   "metadata": {},
   "outputs": [
    {
     "data": {
      "text/plain": [
       "11"
      ]
     },
     "execution_count": 57,
     "metadata": {},
     "output_type": "execute_result"
    }
   ],
   "source": [
    "text = \"Hello Meena\"\n",
    "len(text)"
   ]
  },
  {
   "cell_type": "code",
   "execution_count": 46,
   "metadata": {},
   "outputs": [
    {
     "name": "stdout",
     "output_type": "stream",
     "text": [
      "Hello Meena\n"
     ]
    }
   ],
   "source": [
    "print(text)"
   ]
  },
  {
   "cell_type": "code",
   "execution_count": 71,
   "metadata": {},
   "outputs": [],
   "source": [
    "reverse = \"Hello you are reading this text in reversing order\" [::-1]"
   ]
  },
  {
   "cell_type": "code",
   "execution_count": 72,
   "metadata": {},
   "outputs": [
    {
     "name": "stdout",
     "output_type": "stream",
     "text": [
      "redro gnisrever ni txet siht gnidaer era uoy olleH\n"
     ]
    }
   ],
   "source": [
    "print(reverse)"
   ]
  },
  {
   "cell_type": "code",
   "execution_count": 47,
   "metadata": {},
   "outputs": [
    {
     "name": "stdout",
     "output_type": "stream",
     "text": [
      "0\n",
      "1\n",
      "2\n",
      "3\n",
      "4\n",
      "5\n",
      "6\n",
      "7\n",
      "8\n",
      "9\n",
      "10\n"
     ]
    }
   ],
   "source": [
    "for e in range(len(text)):\n",
    "    print(e)"
   ]
  },
  {
   "cell_type": "code",
   "execution_count": 49,
   "metadata": {},
   "outputs": [
    {
     "name": "stdout",
     "output_type": "stream",
     "text": [
      "H\n",
      "e\n",
      "l\n",
      "l\n",
      "o\n",
      " \n",
      "M\n",
      "e\n",
      "e\n",
      "n\n",
      "a\n"
     ]
    }
   ],
   "source": [
    "for e in text:\n",
    "    print(e)"
   ]
  },
  {
   "cell_type": "code",
   "execution_count": 52,
   "metadata": {},
   "outputs": [
    {
     "name": "stdout",
     "output_type": "stream",
     "text": [
      "0\n",
      "e\n",
      "0\n",
      "0\n",
      "0\n",
      "0\n",
      "0\n",
      "e\n",
      "e\n",
      "0\n",
      "0\n"
     ]
    }
   ],
   "source": [
    "for e in text:\n",
    "    if e == 'e':\n",
    "        print('e')\n",
    "    else:\n",
    "        print('0')"
   ]
  },
  {
   "cell_type": "code",
   "execution_count": 54,
   "metadata": {},
   "outputs": [
    {
     "name": "stdout",
     "output_type": "stream",
     "text": [
      "#\n",
      "1\n",
      "#\n",
      "#\n",
      "#\n",
      "#\n",
      "#\n",
      "7\n",
      "8\n",
      "#\n",
      "#\n"
     ]
    }
   ],
   "source": [
    "for e in range(len(text)):\n",
    "    if text[e] == 'e':\n",
    "        print(e)\n",
    "    else:\n",
    "        print('#')"
   ]
  },
  {
   "cell_type": "code",
   "execution_count": 72,
   "metadata": {},
   "outputs": [
    {
     "data": {
      "text/plain": [
       "'aneeM olleH'"
      ]
     },
     "execution_count": 72,
     "metadata": {},
     "output_type": "execute_result"
    }
   ],
   "source": [
    "# 'Hello Meena' we need to reverse this:\n",
    "\n",
    "r = len(text) - 1 # r = 11(Hello Meena) - 1 (this is because looping starts with 0 index)\n",
    "results = \"\"\n",
    "for e in range(len(text)):\n",
    "    k = text[r]\n",
    "    results += k\n",
    "    r -=1\n",
    "results   \n",
    "    "
   ]
  },
  {
   "cell_type": "code",
   "execution_count": 60,
   "metadata": {},
   "outputs": [
    {
     "data": {
      "text/plain": [
       "'a'"
      ]
     },
     "execution_count": 60,
     "metadata": {},
     "output_type": "execute_result"
    }
   ],
   "source": [
    "text[10]"
   ]
  },
  {
   "cell_type": "code",
   "execution_count": 68,
   "metadata": {},
   "outputs": [
    {
     "data": {
      "text/plain": [
       "'Hello Meena'"
      ]
     },
     "execution_count": 68,
     "metadata": {},
     "output_type": "execute_result"
    }
   ],
   "source": [
    "text"
   ]
  },
  {
   "cell_type": "code",
   "execution_count": 70,
   "metadata": {},
   "outputs": [
    {
     "data": {
      "text/plain": [
       "11"
      ]
     },
     "execution_count": 70,
     "metadata": {},
     "output_type": "execute_result"
    }
   ],
   "source": [
    "len(text)"
   ]
  },
  {
   "cell_type": "code",
   "execution_count": 71,
   "metadata": {},
   "outputs": [
    {
     "data": {
      "text/plain": [
       "'a'"
      ]
     },
     "execution_count": 71,
     "metadata": {},
     "output_type": "execute_result"
    }
   ],
   "source": [
    "text[10]"
   ]
  },
  {
   "cell_type": "code",
   "execution_count": 73,
   "metadata": {},
   "outputs": [
    {
     "name": "stdout",
     "output_type": "stream",
     "text": [
      "Learn Python\n"
     ]
    }
   ],
   "source": [
    "string ='Learn Python'\n",
    "print(string)"
   ]
  },
  {
   "cell_type": "code",
   "execution_count": 79,
   "metadata": {},
   "outputs": [
    {
     "data": {
      "text/plain": [
       "'nohtyP nraeL'"
      ]
     },
     "execution_count": 79,
     "metadata": {},
     "output_type": "execute_result"
    }
   ],
   "source": [
    "a = len(string) - 1\n",
    "output = ''\n",
    "for b in range (len(string)):\n",
    "    c = string[a]\n",
    "    output += c\n",
    "    a -= 1\n",
    "    \n",
    "output    "
   ]
  },
  {
   "cell_type": "code",
   "execution_count": 10,
   "metadata": {},
   "outputs": [],
   "source": [
    "def my_function():\n",
    "    print(\"when I call my_function you see this message !!!\")"
   ]
  },
  {
   "cell_type": "code",
   "execution_count": 11,
   "metadata": {},
   "outputs": [
    {
     "name": "stdout",
     "output_type": "stream",
     "text": [
      "when I call my_function you see this message !!!\n"
     ]
    }
   ],
   "source": [
    "my_function()"
   ]
  },
  {
   "cell_type": "markdown",
   "metadata": {},
   "source": [
    "#### Using f method"
   ]
  },
  {
   "cell_type": "code",
   "execution_count": 13,
   "metadata": {},
   "outputs": [
    {
     "name": "stdout",
     "output_type": "stream",
     "text": [
      "lasliemills\n"
     ]
    }
   ],
   "source": [
    "def my_functions(fname):\n",
    "    print(fname + \"\" +\"mills\")\n",
    "    \n",
    "my_functions(\"laslie\") \n"
   ]
  },
  {
   "cell_type": "code",
   "execution_count": 14,
   "metadata": {},
   "outputs": [
    {
     "name": "stdout",
     "output_type": "stream",
     "text": [
      "KeerthANAmills\n"
     ]
    }
   ],
   "source": [
    "my_functions(\"KeerthANA\")"
   ]
  },
  {
   "cell_type": "markdown",
   "metadata": {},
   "source": [
    "### Arguments"
   ]
  },
  {
   "cell_type": "code",
   "execution_count": 18,
   "metadata": {},
   "outputs": [
    {
     "name": "stdout",
     "output_type": "stream",
     "text": [
      "JamesBomd\n",
      "None\n"
     ]
    }
   ],
   "source": [
    "def my_name_function (fname,lname):\n",
    "    print(fname +\"\" +lname)  \n",
    "print(my_name_function (\"James\",\"Bomd\"))\n",
    "\n",
    "    \n"
   ]
  },
  {
   "cell_type": "code",
   "execution_count": null,
   "metadata": {},
   "outputs": [],
   "source": []
  },
  {
   "cell_type": "code",
   "execution_count": null,
   "metadata": {},
   "outputs": [],
   "source": []
  }
 ],
 "metadata": {
  "kernelspec": {
   "display_name": "Python 3",
   "language": "python",
   "name": "python3"
  },
  "language_info": {
   "codemirror_mode": {
    "name": "ipython",
    "version": 3
   },
   "file_extension": ".py",
   "mimetype": "text/x-python",
   "name": "python",
   "nbconvert_exporter": "python",
   "pygments_lexer": "ipython3",
   "version": "3.7.4"
  }
 },
 "nbformat": 4,
 "nbformat_minor": 2
}
