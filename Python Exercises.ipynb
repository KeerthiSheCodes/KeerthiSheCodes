{
 "cells": [
  {
   "cell_type": "code",
   "execution_count": 5,
   "metadata": {},
   "outputs": [
    {
     "name": "stdout",
     "output_type": "stream",
     "text": [
      "Enter your age34\n",
      "if you are 34 years, then you are 408 months old!!\n"
     ]
    }
   ],
   "source": [
    "user_age = input('Enter your age')\n",
    "years = int(user_age)\n",
    "months = years *12\n",
    "\n",
    "print(f\"if you are {years} years, then you are {months} months old!!\")\n"
   ]
  },
  {
   "cell_type": "markdown",
   "metadata": {},
   "source": []
  },
  {
   "cell_type": "markdown",
   "metadata": {},
   "source": [
    "## Create my_list of 3 variables. The total of the numbers added together  should be 100"
   ]
  },
  {
   "cell_type": "code",
   "execution_count": 13,
   "metadata": {},
   "outputs": [
    {
     "name": "stdout",
     "output_type": "stream",
     "text": [
      "100\n",
      "[50, 25, 25]\n"
     ]
    }
   ],
   "source": [
    "my_list= [50,25,25]\n",
    "print(sum(my_list))\n",
    "print(my_list)"
   ]
  },
  {
   "cell_type": "markdown",
   "metadata": {},
   "source": [
    "## Create a my_tuple with a single value in it"
   ]
  },
  {
   "cell_type": "code",
   "execution_count": 11,
   "metadata": {},
   "outputs": [],
   "source": [
    "my_tuple =(1,)"
   ]
  },
  {
   "cell_type": "code",
   "execution_count": 12,
   "metadata": {},
   "outputs": [
    {
     "name": "stdout",
     "output_type": "stream",
     "text": [
      "(1,)\n"
     ]
    }
   ],
   "source": [
    "print(my_tuple)"
   ]
  },
  {
   "cell_type": "markdown",
   "metadata": {},
   "source": [
    "## Creating Sets"
   ]
  },
  {
   "cell_type": "code",
   "execution_count": 14,
   "metadata": {},
   "outputs": [
    {
     "name": "stdout",
     "output_type": "stream",
     "text": [
      "{9, 5, 12, 77}\n"
     ]
    }
   ],
   "source": [
    "set1 = {14, 5, 9, 31, 12, 77, 67, 8}\n",
    "set2 = {5,77,9,12}\n",
    "my_sets = set1.intersection(set2)\n",
    "print(my_sets)"
   ]
  },
  {
   "cell_type": "markdown",
   "metadata": {},
   "source": [
    "## If statement"
   ]
  },
  {
   "cell_type": "code",
   "execution_count": 17,
   "metadata": {},
   "outputs": [
    {
     "name": "stdout",
     "output_type": "stream",
     "text": [
      "Enter a day:Monday\n",
      "Have a great start!!\n",
      "This continues!!\n"
     ]
    }
   ],
   "source": [
    "days_of_week = input(\"Enter a day:\")\n",
    "\n",
    "if days_of_week == \"Monday\":\n",
    "    print(\"Have a great start!!\")\n",
    "    \n",
    "if days_of_week!=\"Monday\":\n",
    "    print(\"it's not Monday yet!!\")\n",
    "    \n",
    "print(\"This continues!!\")    "
   ]
  },
  {
   "cell_type": "code",
   "execution_count": 26,
   "metadata": {},
   "outputs": [
    {
     "name": "stdout",
     "output_type": "stream",
     "text": [
      "Enter your day:Monday\n",
      "Its Monday!!\n"
     ]
    }
   ],
   "source": [
    "day_of_week = input(\"Enter your day:\").lower()\n",
    "\n",
    "if day_of_week ==\"monday\":\n",
    "    print(\"Its Monday!!\")\n",
    "    \n",
    "elif day_of_week ==\"tuesday\":\n",
    "    print(\"It's Tuesday!!\")\n",
    "    \n",
    "elif day_of_week ==\"wednesday\":\n",
    "    print(\"It's Wednesday!!\")\n",
    "    \n",
    "elif day_of_week ==\"thursday\":\n",
    "    print(\"It's Thursday!!\")\n",
    "    \n",
    "elif day_of_week ==\"friday\":\n",
    "    print(\"It's Fridayday!!\")    \n",
    "    \n",
    "else:\n",
    "    print(\"Hurrayy!! it's weekend\")"
   ]
  },
  {
   "cell_type": "markdown",
   "metadata": {},
   "source": [
    "## In keyword"
   ]
  },
  {
   "cell_type": "code",
   "execution_count": 35,
   "metadata": {},
   "outputs": [
    {
     "name": "stdout",
     "output_type": "stream",
     "text": [
      "Enter the movie you've watched: villan\n",
      "True\n"
     ]
    }
   ],
   "source": [
    "movies = {\"avengers\",\"rrr\",\"hero\",\"villan\"}\n",
    "\n",
    "user_input = input(\"Enter the movie you've watched: \").lower()\n",
    "\n",
    "print(user_input in movies)\n",
    "\n"
   ]
  },
  {
   "cell_type": "markdown",
   "metadata": {},
   "source": [
    "## If statement with In keyword"
   ]
  },
  {
   "cell_type": "code",
   "execution_count": 46,
   "metadata": {},
   "outputs": [
    {
     "name": "stdout",
     "output_type": "stream",
     "text": [
      "Enter the movie you have watched: \n",
      "I haven't watched that movie\n"
     ]
    }
   ],
   "source": [
    "cinema = {\"leader\",\"avpl\",\"parugu\",\"tagore\",\"rowdy\",\"dj\"}\n",
    "fan_input = input('Enter the movie you have watched: ').lower()\n",
    "\n",
    "if fan_input in cinema:\n",
    "    print(f\"I have watched {fan_input} too!!!\")\n",
    "else:\n",
    "    print(\"I haven't watched that movie\")"
   ]
  },
  {
   "cell_type": "markdown",
   "metadata": {},
   "source": [
    "## Guessing Magic Number"
   ]
  },
  {
   "cell_type": "code",
   "execution_count": 48,
   "metadata": {},
   "outputs": [
    {
     "name": "stdout",
     "output_type": "stream",
     "text": [
      "Enter y to start the gamey\n",
      "Enter a number9\n",
      "well done!! You have guessed it right it's number - 9\n"
     ]
    }
   ],
   "source": [
    "\n",
    "number = 9\n",
    "player_input = input(\"Enter y to start the game\").lower()\n",
    "\n",
    "if player_input == 'y':\n",
    "    player_guess = int(input(\"Enter a number\"))\n",
    "    \n",
    "    if player_guess ==9:\n",
    "        print(f\"well done!! You have guessed it right it's number - {number}\")\n",
    "    else:\n",
    "        print(\"Oppsy!! better luck next time\")"
   ]
  },
  {
   "cell_type": "markdown",
   "metadata": {},
   "source": [
    "##  Using While loop"
   ]
  },
  {
   "cell_type": "code",
   "execution_count": 56,
   "metadata": {},
   "outputs": [
    {
     "name": "stdout",
     "output_type": "stream",
     "text": [
      "Enter y/n to start the game: y\n",
      "Enter a number: 1\n",
      "Play again!!\n",
      "Enter y/n to start the game: y\n",
      "Enter a number: 2\n",
      "Play again!!\n",
      "Enter y/n to start the game: y\n",
      "Enter a number: 3\n",
      "Play again!!\n",
      "Enter y/n to start the game: y\n",
      "Enter a number: 10\n",
      "Well done!! you have guessed the correct number it's - 10\n",
      "Enter y/n to start the game: n\n",
      "ohh you missed this fun game!!\n"
     ]
    }
   ],
   "source": [
    "number = 10\n",
    "\n",
    "while True:\n",
    "    player_input = input(\"Enter y/n to start the game: \").lower()\n",
    "    \n",
    "    \n",
    "    if player_input =='n':\n",
    "        print(\"ohh you missed this fun game!!\")\n",
    "        break\n",
    "    \n",
    "    player_guess = int(input(\"Enter a number: \"))\n",
    "    if player_guess ==10:\n",
    "        print(f\"Well done!! you have guessed the correct number it's - {number}\")\n",
    "    else:\n",
    "        print(\"Play again!!\")\n",
    "        \n",
    "    "
   ]
  },
  {
   "cell_type": "markdown",
   "metadata": {},
   "source": [
    "## Using For loop"
   ]
  },
  {
   "cell_type": "code",
   "execution_count": 64,
   "metadata": {},
   "outputs": [
    {
     "name": "stdout",
     "output_type": "stream",
     "text": [
      "['Jan', 'Feb', 'Mar', 'Apr', 'May'], is my friend\n",
      "['Jan', 'Feb', 'Mar', 'Apr', 'May'], is my frined\n",
      "['Jan', 'Feb', 'Mar', 'Apr', 'May'], is my frined\n",
      "['Jan', 'Feb', 'Mar', 'Apr', 'May'], is my frined\n",
      "['Jan', 'Feb', 'Mar', 'Apr', 'May'], is my frined\n",
      "['Jan', 'Feb', 'Mar', 'Apr', 'May'], is my frined\n"
     ]
    }
   ],
   "source": [
    "friends = [\"Jan\", \"Feb\", \"Mar\", \"Apr\", \"May\"]\n",
    "for friend in range(1):\n",
    "    print(f\"{friends}, is my friend\")\n",
    "    \n",
    "for friend in friends:\n",
    "    print(f\"{friends}, is my frined\")"
   ]
  },
  {
   "cell_type": "code",
   "execution_count": 77,
   "metadata": {},
   "outputs": [
    {
     "name": "stdout",
     "output_type": "stream",
     "text": [
      "86.11111111111111\n"
     ]
    }
   ],
   "source": [
    "grades= [75,79,80,83,85,90,92,95,96]\n",
    "total = 0\n",
    "amount = len(grades)\n",
    "\n",
    "for grade in grades:\n",
    "    total += grade\n",
    "    \n",
    "print(total/amount)    "
   ]
  },
  {
   "cell_type": "code",
   "execution_count": 79,
   "metadata": {},
   "outputs": [
    {
     "name": "stdout",
     "output_type": "stream",
     "text": [
      "92.75\n"
     ]
    }
   ],
   "source": [
    "\n",
    "## without using For loop\n",
    "\n",
    "grades = [89,90,85,93,98,95,95,97]\n",
    "total = sum(grades)\n",
    "amount = len(grades)\n",
    "print(total/amount)"
   ]
  },
  {
   "cell_type": "markdown",
   "metadata": {},
   "source": [
    "## Flow control  exercises:\n"
   ]
  },
  {
   "cell_type": "code",
   "execution_count": 119,
   "metadata": {},
   "outputs": [
    {
     "name": "stdout",
     "output_type": "stream",
     "text": [
      "[0]\n",
      "[0, 2]\n",
      "[0, 2, 4]\n",
      "[0, 2, 4, 6]\n",
      "[0, 2, 4, 6, 8]\n",
      "[0, 2, 4, 6, 8, 10]\n",
      "[0, 2, 4, 6, 8, 10, 12]\n",
      "[0, 2, 4, 6, 8, 10, 12, 14]\n",
      "[0, 2, 4, 6, 8, 10, 12, 14, 16]\n",
      "[0, 2, 4, 6, 8, 10, 12, 14, 16, 18]\n",
      "[0, 2, 4, 6, 8, 10, 12, 14, 16, 18, 20]\n",
      "[0, 2, 4, 6, 8, 10, 12, 14, 16, 18, 20, 22]\n",
      "[0, 2, 4, 6, 8, 10, 12, 14, 16, 18, 20, 22, 24]\n",
      "[0, 2, 4, 6, 8, 10, 12, 14, 16, 18, 20, 22, 24, 26]\n",
      "[0, 2, 4, 6, 8, 10, 12, 14, 16, 18, 20, 22, 24, 26, 28]\n",
      "[0, 2, 4, 6, 8, 10, 12, 14, 16, 18, 20, 22, 24, 26, 28, 30]\n",
      "[0, 2, 4, 6, 8, 10, 12, 14, 16, 18, 20, 22, 24, 26, 28, 30, 32]\n",
      "[0, 2, 4, 6, 8, 10, 12, 14, 16, 18, 20, 22, 24, 26, 28, 30, 32, 34]\n",
      "[0, 2, 4, 6, 8, 10, 12, 14, 16, 18, 20, 22, 24, 26, 28, 30, 32, 34, 36]\n",
      "[0, 2, 4, 6, 8, 10, 12, 14, 16, 18, 20, 22, 24, 26, 28, 30, 32, 34, 36, 38]\n",
      "[0, 2, 4, 6, 8, 10, 12, 14, 16, 18, 20, 22, 24, 26, 28, 30, 32, 34, 36, 38, 40]\n",
      "[0, 2, 4, 6, 8, 10, 12, 14, 16, 18, 20, 22, 24, 26, 28, 30, 32, 34, 36, 38, 40, 42]\n",
      "[0, 2, 4, 6, 8, 10, 12, 14, 16, 18, 20, 22, 24, 26, 28, 30, 32, 34, 36, 38, 40, 42, 44]\n",
      "[0, 2, 4, 6, 8, 10, 12, 14, 16, 18, 20, 22, 24, 26, 28, 30, 32, 34, 36, 38, 40, 42, 44, 46]\n",
      "[0, 2, 4, 6, 8, 10, 12, 14, 16, 18, 20, 22, 24, 26, 28, 30, 32, 34, 36, 38, 40, 42, 44, 46, 48]\n"
     ]
    }
   ],
   "source": [
    "numbers = [1,2,3,4,5,6]\n",
    "even = []\n",
    "for number in range(50):\n",
    "    if number% 2 ==0:\n",
    "        even.append(number)\n",
    "        print(even)"
   ]
  },
  {
   "cell_type": "code",
   "execution_count": null,
   "metadata": {},
   "outputs": [],
   "source": [
    "## Add a clause to the if statement such that if the user input is \"q\"then the program should print \"Quit\"\n"
   ]
  },
  {
   "cell_type": "markdown",
   "metadata": {},
   "source": [
    "## List comphrensions"
   ]
  },
  {
   "cell_type": "code",
   "execution_count": 124,
   "metadata": {},
   "outputs": [
    {
     "name": "stdout",
     "output_type": "stream",
     "text": [
      "['pineapple']\n",
      "['pineapple', 'pumpkin']\n",
      "['pineapple', 'pumpkin', 'pasta']\n",
      "['pineapple', 'pumpkin', 'pasta', 'pizza']\n",
      "['pineapple', 'pumpkin', 'pasta', 'pizza', 'pappu']\n"
     ]
    }
   ],
   "source": [
    "foods =[\"pineapple\",\"pumpkin\",\"pasta\",\"pizza\",\"pappu\",\"curry\", \"icecream\",\"muffin\",\"soup\",\"rice\"]\n",
    "starts_p =[]\n",
    "for food in foods:\n",
    "    if food.startswith(\"p\"):\n",
    "        starts_p.append(food)\n",
    "        print(starts_p)"
   ]
  },
  {
   "cell_type": "markdown",
   "metadata": {},
   "source": [
    "## Dictionaries"
   ]
  },
  {
   "cell_type": "code",
   "execution_count": null,
   "metadata": {},
   "outputs": [],
   "source": []
  }
 ],
 "metadata": {
  "kernelspec": {
   "display_name": "Python 3",
   "language": "python",
   "name": "python3"
  },
  "language_info": {
   "codemirror_mode": {
    "name": "ipython",
    "version": 3
   },
   "file_extension": ".py",
   "mimetype": "text/x-python",
   "name": "python",
   "nbconvert_exporter": "python",
   "pygments_lexer": "ipython3",
   "version": "3.7.4"
  }
 },
 "nbformat": 4,
 "nbformat_minor": 2
}
